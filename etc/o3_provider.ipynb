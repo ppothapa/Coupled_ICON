{
 "cells": [
  {
   "cell_type": "markdown",
   "id": "a829ce28-49cc-4ba9-af5b-332c7543dcaa",
   "metadata": {
    "tags": []
   },
   "source": [
    "Copyright (c) 2023, DKRZ, MPI-M\n",
    "\n",
    "All rights reserved.\n",
    "\n",
    "Redistribution and use in source and binary forms, with or without modification,\n",
    "are permitted provided that the following conditions are met:\n",
    "\n",
    "1. Redistributions of source code must retain the above copyright notice, this\n",
    "   list of conditions and the following disclaimer.\n",
    "\n",
    "2. Redistributions in binary form must reproduce the above copyright notice, this\n",
    "   list of conditions and the following disclaimer in the documentation and/or\n",
    "   other materials provided with the distribution.\n",
    "\n",
    "3. Neither the name of the copyright holder nor the names of its contributors\n",
    "   may be used to endorse or promote products derived from this software without\n",
    "   specific prior written permission.\n",
    "\n",
    "THIS SOFTWARE IS PROVIDED BY THE COPYRIGHT HOLDERS AND CONTRIBUTORS \"AS IS\" AND\n",
    "ANY EXPRESS OR IMPLIED WARRANTIES, INCLUDING, BUT NOT LIMITED TO, THE IMPLIED\n",
    "WARRANTIES OF MERCHANTABILITY AND FITNESS FOR A PARTICULAR PURPOSE ARE DISCLAIMED.\n",
    "IN NO EVENT SHALL THE COPYRIGHT HOLDER OR CONTRIBUTORS BE LIABLE FOR ANY DIRECT,\n",
    "INDIRECT, INCIDENTAL, SPECIAL, EXEMPLARY, OR CONSEQUENTIAL DAMAGES (INCLUDING,\n",
    "BUT NOT LIMITED TO, PROCUREMENT OF SUBSTITUTE GOODS OR SERVICES; LOSS OF USE,\n",
    "DATA, OR PROFITS; OR BUSINESS INTERRUPTION) HOWEVER CAUSED AND ON ANY THEORY\n",
    "OF LIABILITY, WHETHER IN CONTRACT, STRICT LIABILITY, OR TORT (INCLUDING NEGLIGENCE\n",
    "OR OTHERWISE) ARISING IN ANY WAY OUT OF THE USE OF THIS SOFTWARE, EVEN IF\n",
    "ADVISED OF THE POSSIBILITY OF SUCH DAMAGE."
   ]
  },
  {
   "cell_type": "code",
   "execution_count": 1,
   "id": "e2bfc4b8-5d37-48bd-9b36-c8ad39f595b3",
   "metadata": {
    "tags": []
   },
   "outputs": [],
   "source": [
    "import xarray as xr\n",
    "import isodate\n",
    "from datetime import date\n",
    "from os.path import exists"
   ]
  },
  {
   "cell_type": "markdown",
   "id": "64ec8080-efb7-4fc9-b1ce-b32d6e74e6fb",
   "metadata": {
    "tags": []
   },
   "source": [
    "**ICON/YAC preamble**"
   ]
  },
  {
   "cell_type": "code",
   "execution_count": 2,
   "id": "344671ee-356e-41e2-951d-ee9cae8015a9",
   "metadata": {
    "tags": []
   },
   "outputs": [],
   "source": [
    "VERBOSE = 2\n",
    "\n",
    "iso_start_date='1979-11-01T00:00:00.000'\n",
    "iso_end_date='1980-04-01T00:00:00.000'\n",
    "iso_coupling_interval='P10D'\n",
    "iso_data_interval='P1M'\n",
    "\n",
    "dataPath = \"/pool/data/ECHAM6/input/r0008/T127/ozone/\"\n",
    "fileRoot = \"T127_ozone_\"\n",
    "\n",
    "irad_o3 = 5\n",
    "lyr_perp = True\n",
    "yr_perp = 1950\n",
    "\n",
    "if ( irad_o3 == 6 ) :\n",
    "    scenario = \"picontrol\"\n",
    "if ( irad_o3 == 5 ) :\n",
    "    scenario = \"historical\"\n",
    "\n",
    "# scenario = \"ssp119\"\n",
    "# scenario = \"ssp126\"\n",
    "# scenario = \"ssp370\"\n",
    "# scenario = \"ssp585\"\n",
    "# scenario = \"perpetual\" ; scenario_year = \"historical_2014\""
   ]
  },
  {
   "cell_type": "markdown",
   "id": "31ec8413-fcd7-476a-80e7-5a4285f9aeaf",
   "metadata": {
    "tags": []
   },
   "source": [
    "**Some more initialisation**"
   ]
  },
  {
   "cell_type": "code",
   "execution_count": 3,
   "id": "06e0ebc9-4446-4e31-9bcb-22efa624a102",
   "metadata": {
    "tags": []
   },
   "outputs": [],
   "source": [
    "switch_year = False\n",
    "scenario_year = 2014\n",
    "\n",
    "start_date = isodate.parse_datetime(iso_start_date)\n",
    "end_datetime = isodate.parse_datetime(iso_end_date)\n",
    "coupling_interval = isodate.parse_duration(iso_coupling_interval)\n",
    "data_interval = isodate.parse_duration(iso_data_interval)"
   ]
  },
  {
   "cell_type": "markdown",
   "id": "af39a6ef-1cdf-4e9e-96e4-06c43c55dfc5",
   "metadata": {
    "tags": []
   },
   "source": [
    "**Reading the data**"
   ]
  },
  {
   "cell_type": "code",
   "execution_count": 4,
   "id": "bbb35ea7-7352-45c1-b773-a2ebfff022df",
   "metadata": {
    "tags": []
   },
   "outputs": [],
   "source": [
    "def filename_dflt ( dataPath , fileRoot, scenario ) :\n",
    "    filename =  dataPath+fileRoot+scenario+\".nc\"\n",
    "    return filename\n",
    "\n",
    "def filename_perp ( dataPath , fileRoot, scenario_year ) :\n",
    "    filename =  dataPath+fileRoot+scenario_year+\".nc\"\n",
    "    \n",
    "    if ( exists(filename) ) :\n",
    "        return filename\n",
    "    else :\n",
    "        print ( filename, \" not available!\" )\n",
    "        raise SystemExit(1) ; exit\n",
    "\n",
    "def filename_year ( dataPath , fileRoot, scenario, year ) :\n",
    "    if ( scenario[:3] == \"ssp\" and year > 2014 ) :\n",
    "        filename = dataPath+fileRoot+scenario+\"_\"+str(year)+\".nc\"\n",
    "    else:\n",
    "        filename = dataPath+fileRoot+\"historical\"+\"_\"+str(year)+\".nc\"\n",
    "        \n",
    "    if ( exists(filename) ) :\n",
    "        return filename\n",
    "    else :\n",
    "        print ( filename, \" not available!\" )\n",
    "        raise SystemExit(1); exit"
   ]
  },
  {
   "cell_type": "code",
   "execution_count": 5,
   "id": "1819534a-68ba-4532-8255-2406ed941a19",
   "metadata": {
    "tags": []
   },
   "outputs": [
    {
     "name": "stdout",
     "output_type": "stream",
     "text": [
      "o3_provider: reading  /pool/data/ECHAM6/input/r0008/T127/ozone/T127_ozone_historical_1979.nc\n"
     ]
    }
   ],
   "source": [
    "if ( scenario == \"picontrol\" ) :\n",
    "    filename = filename_dflt( dataPath, fileRoot ,scenario )\n",
    "elif ( scenario == \"perpetual\" ) :\n",
    "    filename = filename_perp( dataPath, fileRoot, scenario_year )\n",
    "elif ( scenario[:3] == \"ssp\" or scenario == \"historical\" ) :\n",
    "    filename = filename_year( dataPath, fileRoot, scenario, start_date.year )\n",
    "else :\n",
    "    print ( \"scenario \", scenario, \" not supported!\" )\n",
    "    raise SystemExit(1); exit\n",
    "\n",
    "if ( VERBOSE > 0 ) :\n",
    "    print ( \"o3_provider: reading \", filename )\n",
    "\n",
    "dataset = xr.open_dataset(filename, decode_times=False)\n",
    "other_dataset = dataset"
   ]
  },
  {
   "cell_type": "markdown",
   "id": "a543eb4e-e274-4560-b98d-ddd0ede2050e",
   "metadata": {
    "tags": []
   },
   "source": [
    "**Time loop**"
   ]
  },
  {
   "cell_type": "code",
   "execution_count": 6,
   "id": "87ae7435-daea-4895-bd2c-adf037f94d06",
   "metadata": {
    "tags": []
   },
   "outputs": [
    {
     "name": "stdout",
     "output_type": "stream",
     "text": [
      "o3_provider: Reading this month 11\n",
      "o3_provider: Reading other month 10\n",
      "o3_provider:  1979-11-01T00:00:00  wght  0.508197 * 11 + 0.491803 * 10\n",
      "o3_provider:  1979-11-11T00:00:00  wght  0.836066 * 11 + 0.163934 * 10\n",
      "o3_provider: Reading other month 12\n",
      "o3_provider:  1979-11-21T00:00:00  wght  0.836066 * 11 + 0.163934 * 12\n",
      "o3_provider: Flipp this month to  12\n",
      "o3_provider: Reading other month 11\n",
      "o3_provider:  1979-12-01T00:00:00  wght  0.491803 * 12 + 0.508197 * 11\n",
      "o3_provider:  1979-12-11T00:00:00  wght  0.819672 * 12 + 0.180328 * 11\n",
      "o3_provider: Opened dataset for year  1980\n",
      "o3_provider: Reading other month 1\n",
      "o3_provider:  1979-12-21T00:00:00  wght  0.854839 * 12 + 0.145161 *  1\n",
      "o3_provider:  1979-12-31T00:00:00  wght  0.532258 * 12 + 0.467742 *  1\n",
      "o3_provider: Flipp this month to  1\n",
      "o3_provider: Reading other month 12\n",
      "o3_provider:  1980-01-10T00:00:00  wght  0.790323 *  1 + 0.209677 * 12\n",
      "o3_provider: Complete switch to year  1980\n",
      "o3_provider: Reading other month 2\n",
      "o3_provider:  1980-01-20T00:00:00  wght  0.883333 *  1 + 0.116667 *  2\n",
      "o3_provider:  1980-01-30T00:00:00  wght  0.550000 *  1 + 0.450000 *  2\n",
      "o3_provider: Flipp this month to  2\n",
      "o3_provider: Reading other month 1\n",
      "o3_provider:  1980-02-09T00:00:00  wght  0.783333 *  2 + 0.216667 *  1\n",
      "o3_provider: Reading other month 3\n",
      "o3_provider:  1980-02-19T00:00:00  wght  0.883333 *  2 + 0.116667 *  3\n",
      "o3_provider:  1980-02-29T00:00:00  wght  0.550000 *  2 + 0.450000 *  3\n",
      "o3_provider: Flipp this month to  3\n",
      "o3_provider: Reading other month 2\n",
      "o3_provider:  1980-03-10T00:00:00  wght  0.783333 *  3 + 0.216667 *  2\n",
      "o3_provider: Reading other month 4\n",
      "o3_provider:  1980-03-20T00:00:00  wght  0.885246 *  3 + 0.114754 *  4\n",
      "o3_provider:  1980-03-30T00:00:00  wght  0.557377 *  3 + 0.442623 *  4\n",
      "The End\n"
     ]
    }
   ],
   "source": [
    "this_date = start_date\n",
    "watch_this = 0\n",
    "watch_other = 0\n",
    "\n",
    "while this_date <= end_datetime:\n",
    "\n",
    "    this_month = this_date.month\n",
    "    this_year = this_date.year\n",
    "\n",
    "    if ( this_month < 12) :\n",
    "        mid_of_this_month = (date(this_year, this_month+1, 1) -\n",
    "                             date(this_year, this_month, 1)).days * 43200\n",
    "    else :\n",
    "        mid_of_this_month = 31 * 43200\n",
    "\n",
    "    sec_of_this_month = (this_date.day-1) * 86400 + \\\n",
    "                         this_date.hour   * 3600 +  \\\n",
    "                         this_date.minute * 60 +    \\\n",
    "                         this_date.second  \n",
    "    \n",
    "    if ( sec_of_this_month <= mid_of_this_month ) :\n",
    "        switch = -1\n",
    "    else :\n",
    "        switch = 1\n",
    "\n",
    "    other_date = this_date + switch * data_interval\n",
    "    other_month = other_date.month\n",
    "    other_year = other_date.year\n",
    "\n",
    "    if ( scenario[:3] == \"ssp\" or scenario == \"historical\" ) :\n",
    "\n",
    "        if ( other_year != this_year and not switch_year ) :\n",
    "            filename = filename_year( dataPath, fileRoot, scenario, other_year )\n",
    "            other_dataset = xr.open_dataset(filename, decode_times=False)\n",
    "            switch_year = True\n",
    "            if ( VERBOSE > 0 ) :\n",
    "                print ( \"o3_provider: Opened dataset for year \", other_year )\n",
    "\n",
    "        if ( other_year == this_year and switch_year ) :\n",
    "            switch_year = False\n",
    "            other_dataset = dataset\n",
    "            if ( VERBOSE > 0) :\n",
    "                print ( \"o3_provider: Complete switch to year \", other_year )\n",
    "\n",
    "    if ( other_month < 12) :\n",
    "        mid_of_other_month = (date(this_year, other_month+1, 1) -\n",
    "                              date(this_year, other_month, 1)).days * 43200\n",
    "    else :\n",
    "        mid_of_other_month = 31 * 43200\n",
    " \n",
    "    other_wght = switch * ( sec_of_this_month - mid_of_this_month ) / \\\n",
    "                          ( mid_of_this_month + mid_of_other_month )\n",
    "    this_wght  = 1 - other_wght\n",
    "\n",
    "    if ( this_month != watch_this ) :\n",
    "        if ( watch_this == 0 ) :\n",
    "            if ( VERBOSE > 1 ) : print ( \"o3_provider: Reading this month\", this_month )\n",
    "            o3_this_month  = dataset[\"O3\"][{\"time\":this_month-1}].values.reshape((1,-1))\n",
    "\n",
    "        else :\n",
    "            if ( VERBOSE > 1 ) : print ( \"o3_provider: Flipp this month to \", this_month )\n",
    "            o3_this_month = o3_other_month\n",
    "\n",
    "        watch_this = this_month\n",
    "\n",
    "    # with an extra copy one could save some more reading from file\n",
    "    if ( other_month != watch_other ) :\n",
    "        if ( VERBOSE > 1 ) : print ( \"o3_provider: Reading other month\", other_month )\n",
    "        o3_other_month = other_dataset[\"O3\"][{\"time\":other_month-1}].values.reshape((1,-1))\n",
    "        watch_other = other_month\n",
    "\n",
    "    if ( VERBOSE > 1 ) :\n",
    "        print (\"o3_provider: \", this_date.isoformat() , ' wght ' , \n",
    "               \"%8.6f\" % this_wght, '*' , \"%2i\" % this_month , '+' ,\n",
    "               \"%8.6f\" % other_wght, '*', \"%2i\" % other_month)\n",
    "\n",
    "    o3_array = this_wght * o3_this_month + other_wght * o3_other_month\n",
    "\n",
    "    this_date = this_date + coupling_interval\n",
    "\n",
    "print ( \"The End\" )"
   ]
  },
  {
   "cell_type": "raw",
   "id": "1af4110b-86ff-4df7-8e68-f69e28d6d009",
   "metadata": {},
   "source": []
  },
  {
   "cell_type": "code",
   "execution_count": null,
   "id": "89cec49c-c64b-4626-8e04-ad889315000b",
   "metadata": {},
   "outputs": [],
   "source": []
  }
 ],
 "metadata": {
  "kernelspec": {
   "display_name": "Python 3 (based on the module python3/2022.01)",
   "language": "python",
   "name": "python3_2022_01"
  },
  "language_info": {
   "codemirror_mode": {
    "name": "ipython",
    "version": 3
   },
   "file_extension": ".py",
   "mimetype": "text/x-python",
   "name": "python",
   "nbconvert_exporter": "python",
   "pygments_lexer": "ipython3",
   "version": "3.9.9"
  }
 },
 "nbformat": 4,
 "nbformat_minor": 5
}

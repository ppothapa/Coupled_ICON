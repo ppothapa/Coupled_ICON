{
 "cells": [
  {
   "cell_type": "markdown",
   "id": "a829ce28-49cc-4ba9-af5b-332c7543dcaa",
   "metadata": {
    "tags": []
   },
   "source": [
    "Copyright (c) 2023, DKRZ, MPI-M\n",
    "\n",
    "All rights reserved.\n",
    "\n",
    "Redistribution and use in source and binary forms, with or without modification,\n",
    "are permitted provided that the following conditions are met:\n",
    "\n",
    "1. Redistributions of source code must retain the above copyright notice, this\n",
    "   list of conditions and the following disclaimer.\n",
    "\n",
    "2. Redistributions in binary form must reproduce the above copyright notice, this\n",
    "   list of conditions and the following disclaimer in the documentation and/or\n",
    "   other materials provided with the distribution.\n",
    "\n",
    "3. Neither the name of the copyright holder nor the names of its contributors\n",
    "   may be used to endorse or promote products derived from this software without\n",
    "   specific prior written permission.\n",
    "\n",
    "THIS SOFTWARE IS PROVIDED BY THE COPYRIGHT HOLDERS AND CONTRIBUTORS \"AS IS\" AND\n",
    "ANY EXPRESS OR IMPLIED WARRANTIES, INCLUDING, BUT NOT LIMITED TO, THE IMPLIED\n",
    "WARRANTIES OF MERCHANTABILITY AND FITNESS FOR A PARTICULAR PURPOSE ARE DISCLAIMED.\n",
    "IN NO EVENT SHALL THE COPYRIGHT HOLDER OR CONTRIBUTORS BE LIABLE FOR ANY DIRECT,\n",
    "INDIRECT, INCIDENTAL, SPECIAL, EXEMPLARY, OR CONSEQUENTIAL DAMAGES (INCLUDING,\n",
    "BUT NOT LIMITED TO, PROCUREMENT OF SUBSTITUTE GOODS OR SERVICES; LOSS OF USE,\n",
    "DATA, OR PROFITS; OR BUSINESS INTERRUPTION) HOWEVER CAUSED AND ON ANY THEORY\n",
    "OF LIABILITY, WHETHER IN CONTRACT, STRICT LIABILITY, OR TORT (INCLUDING NEGLIGENCE\n",
    "OR OTHERWISE) ARISING IN ANY WAY OUT OF THE USE OF THIS SOFTWARE, EVEN IF\n",
    "ADVISED OF THE POSSIBILITY OF SUCH DAMAGE."
   ]
  },
  {
   "cell_type": "code",
   "execution_count": null,
   "id": "e2bfc4b8-5d37-48bd-9b36-c8ad39f595b3",
   "metadata": {
    "tags": []
   },
   "outputs": [],
   "source": [
    "import xarray as xr\n",
    "import isodate\n",
    "from datetime import date\n",
    "from os.path import exists"
   ]
  },
  {
   "cell_type": "markdown",
   "id": "64ec8080-efb7-4fc9-b1ce-b32d6e74e6fb",
   "metadata": {
    "tags": []
   },
   "source": [
    "**ICON/YAC preamble**"
   ]
  },
  {
   "cell_type": "code",
   "execution_count": null,
   "id": "344671ee-356e-41e2-951d-ee9cae8015a9",
   "metadata": {
    "tags": []
   },
   "outputs": [],
   "source": [
    "VERBOSE = 2\n",
    "\n",
    "iso_start_date='1979-11-01T00:00:00.000'\n",
    "iso_end_date='1980-04-01T00:00:00.000'\n",
    "iso_coupling_interval='P1D'\n",
    "iso_data_interval='P1M'\n",
    "\n",
    "dataPath = \"/pool/data/ICON/grids/public/mpim/independent/aerosol_kinne/\"\n",
    "fileRoot = \"aeropt_kinne\"\n",
    "\n",
    "irad_aero = 12\n",
    "lyr_perp = False\n",
    "yr_perp = 1950\n",
    "\n",
    "if ( irad_aero == 12 or irad_aero == 18 or irad_aero == 19 ) :\n",
    "    scenario = \"picontrol\" # Kinne background from 1850\n",
    "\n",
    "if ( irad_aero == 13 or irad_aero == 15 ) :\n",
    "    scenario = \"historical\"\n",
    "\n",
    "if ( lyr_perp ) :\n",
    "    scenario = \"perpetual\"\n",
    "    perpetual_year = yr_perp"
   ]
  },
  {
   "cell_type": "markdown",
   "id": "31ec8413-fcd7-476a-80e7-5a4285f9aeaf",
   "metadata": {
    "tags": []
   },
   "source": [
    "**Some more initialisation**"
   ]
  },
  {
   "cell_type": "code",
   "execution_count": null,
   "id": "06e0ebc9-4446-4e31-9bcb-22efa624a102",
   "metadata": {
    "tags": []
   },
   "outputs": [],
   "source": [
    "switch_year = False\n",
    "\n",
    "start_date = isodate.parse_datetime(iso_start_date)\n",
    "end_datetime = isodate.parse_datetime(iso_end_date)\n",
    "coupling_interval = isodate.parse_duration(iso_coupling_interval)\n",
    "data_interval = isodate.parse_duration(iso_data_interval)"
   ]
  },
  {
   "cell_type": "markdown",
   "id": "af39a6ef-1cdf-4e9e-96e4-06c43c55dfc5",
   "metadata": {
    "tags": []
   },
   "source": [
    "**Reading the data**"
   ]
  },
  {
   "cell_type": "code",
   "execution_count": null,
   "id": "bbb35ea7-7352-45c1-b773-a2ebfff022df",
   "metadata": {
    "tags": []
   },
   "outputs": [],
   "source": [
    "def filename_dflt ( dataPath , fileRoot, band ) :\n",
    "    filename =  dataPath+fileRoot+\"_\"+band+\"_rast.nc\"\n",
    "    return filename\n",
    "\n",
    "def filename_year ( dataPath , fileRoot, band, year ) :\n",
    "    if ( year >= 1845 and year <= 2100 ) :\n",
    "        filename = dataPath+fileRoot+\"_\"+band+\"_\"+str(year)+\"_rast.nc\"\n",
    "        return filename\n",
    "    else:\n",
    "        print ( filename, \" not available!\" )\n",
    "        raise SystemExit(1); exit        \n"
   ]
  },
  {
   "cell_type": "code",
   "execution_count": null,
   "id": "1819534a-68ba-4532-8255-2406ed941a19",
   "metadata": {
    "tags": []
   },
   "outputs": [],
   "source": [
    "filename = filename_dflt( dataPath, fileRoot, \"lw_b16_coa\" )\n",
    "\n",
    "if ( VERBOSE > 0 ) :\n",
    "    print ( \"aero_provider: Reading \\n\", filename )\n",
    "\n",
    "lw_b16_coa = xr.open_dataset(filename, decode_times=False)\n",
    "\n",
    "print ( \"lw_b16_coa.dims:\", lw_b16_coa.dims[\"lnwl\"] )\n",
    "print ( \"delta_z:        \", lw_b16_coa[\"delta_z\"].values )\n",
    "\n",
    "filename = filename_dflt( dataPath, fileRoot, \"sw_b14_coa\" )\n",
    "\n",
    "if ( VERBOSE > 0 ) :\n",
    "    print ( \"aero_provider: Reading \\n\", filename )\n",
    "\n",
    "sw_b14_coa = xr.open_dataset(filename, decode_times=False)\n",
    "\n",
    "print ( \"sw_b14_coa.dims:\", sw_b14_coa.dims[\"lnwl\"] )\n",
    "print ( \"delta_z:        \", sw_b14_coa[\"delta_z\"].values )\n",
    "\n",
    "if ( scenario == 'picontrol' ) :\n",
    "    filename = filename_year ( dataPath, fileRoot, \"sw_b14_fin\", 1850 )\n",
    "if ( scenario == 'perpetual' ) :\n",
    "    filename = filename_year ( dataPath, fileRoot, \"sw_b14_fin\", perpetual_year )\n",
    "if ( scenario == 'historical' ) :\n",
    "    filename = filename_year ( dataPath, fileRoot, \"sw_b14_fin\", start_date.year )\n",
    "\n",
    "if ( VERBOSE > 0 ) :\n",
    "    print ( \"aero_provider: Reading \\n\", filename )\n",
    "\n",
    "this_sw_b14_fin = xr.open_dataset(filename, decode_times=False)\n",
    "other_sw_b14_fin = this_sw_b14_fin\n",
    "\n",
    "print ( \"sw_b14_coa.dims:\", sw_b14_coa.dims[\"lnwl\"] )\n",
    "print ( \"delta_z:        \", this_sw_b14_fin[\"delta_z\"].values )"
   ]
  },
  {
   "cell_type": "markdown",
   "id": "a543eb4e-e274-4560-b98d-ddd0ede2050e",
   "metadata": {
    "tags": []
   },
   "source": [
    "**Time loop**"
   ]
  },
  {
   "cell_type": "code",
   "execution_count": null,
   "id": "87ae7435-daea-4895-bd2c-adf037f94d06",
   "metadata": {
    "tags": []
   },
   "outputs": [],
   "source": [
    "this_date = start_date\n",
    "watch_this = 0\n",
    "watch_other = 0\n",
    "\n",
    "while this_date <= end_datetime:\n",
    "\n",
    "    this_month = this_date.month\n",
    "    this_year = this_date.year\n",
    "\n",
    "    if ( this_month < 12) :\n",
    "        mid_of_this_month = (date(this_year, this_month+1, 1) -\n",
    "                             date(this_year, this_month, 1)).days * 43200\n",
    "    else :\n",
    "        mid_of_this_month = 31 * 43200\n",
    "\n",
    "    sec_of_this_month = (this_date.day-1) * 86400 + \\\n",
    "                         this_date.hour   * 3600 +  \\\n",
    "                         this_date.minute * 60 +    \\\n",
    "                         this_date.second  \n",
    "    \n",
    "    if ( sec_of_this_month <= mid_of_this_month ) :\n",
    "        switch = -1\n",
    "    else :\n",
    "        switch = 1\n",
    "\n",
    "    other_date = this_date + switch * data_interval\n",
    "    other_month = other_date.month\n",
    "    other_year = other_date.year\n",
    "\n",
    "    if ( scenario == \"historical\" ) :\n",
    "\n",
    "        if ( other_year != this_year and not switch_year ) :\n",
    "            filename = filename_year( dataPath, fileRoot, \"sw_b14_fin\", other_year )\n",
    "            other_sw_b14_fin = xr.open_dataset(filename, decode_times=False)\n",
    "            switch_year = True\n",
    "            if VERBOSE > 0:\n",
    "                print ( \"aero_provider: Opened dataset for year \", other_year )\n",
    "\n",
    "        if ( other_year == this_year and switch_year ) :\n",
    "            switch_year = False\n",
    "            other_sw_b14_fin = dataset_sw_b14_fin\n",
    "            if VERBOSE > 0:\n",
    "                print ( \"aero_provider: Complete switch to year \", other_year )\n",
    "\n",
    "    if ( other_month < 12) :\n",
    "        mid_of_other_month = (date(this_year, other_month+1, 1) -\n",
    "                              date(this_year, other_month, 1)).days * 43200\n",
    "    else :\n",
    "        mid_of_other_month = 31 * 43200\n",
    " \n",
    "    other_wght = switch * ( sec_of_this_month - mid_of_this_month ) / \\\n",
    "                          ( mid_of_this_month + mid_of_other_month )\n",
    "    this_wght  = 1 - other_wght\n",
    "\n",
    "    if ( this_month != watch_this ) :\n",
    "        if ( watch_this == 0 ) :\n",
    "\n",
    "            if ( VERBOSE > 1 ) :\n",
    "                print ( \"aero_provider: Reading this month\", this_month )\n",
    "\n",
    "            this_aod_lw_b16_coa  = lw_b16_coa[\"aod\"][\"time\"][this_month-1].values.reshape((1,-1))\n",
    "            this_ssa_lw_b16_coa  = lw_b16_coa[\"ssa\"][\"time\"][this_month-1].values.reshape((1,-1))\n",
    "            this_asy_lw_b16_coa  = lw_b16_coa[\"asy\"][\"time\"][this_month-1].values.reshape((1,-1))\n",
    "            this_aer_lw_b16_coa  = lw_b16_coa[\"z_aer_coarse_mo\"][\"time\"][this_month-1].values.reshape((1,-1))\n",
    "\n",
    "            this_aod_sw_b14_coa  = sw_b14_coa[\"aod\"][\"time\"][this_month-1].values.reshape((1,-1))\n",
    "            this_ssa_sw_b14_coa  = sw_b14_coa[\"ssa\"][\"time\"][this_month-1].values.reshape((1,-1))\n",
    "            this_asy_sw_b14_coa  = sw_b14_coa[\"asy\"][\"time\"][this_month-1].values.reshape((1,-1))\n",
    "            this_aer_sw_b14_coa  = sw_b14_coa[\"z_aer_coarse_mo\"][\"time\"][this_month-1].values.reshape((1,-1))\n",
    "        \n",
    "            this_aod_sw_b14_fin  = this_sw_b14_fin[\"aod\"][\"time\"][this_month-1].values.reshape((1,-1))\n",
    "            this_ssa_sw_b14_fin  = this_sw_b14_fin[\"ssa\"][\"time\"][this_month-1].values.reshape((1,-1))\n",
    "            this_asy_sw_b14_fin  = this_sw_b14_fin[\"asy\"][\"time\"][this_month-1].values.reshape((1,-1))\n",
    "            this_aer_sw_b14_fin  = this_sw_b14_fin[\"z_aer_fine_mo\"][\"time\"][this_month-1].values.reshape((1,-1))\n",
    "\n",
    "        else :\n",
    "\n",
    "            if ( VERBOSE > 1 ) :\n",
    "                print ( \"aero_provider: Flipp this month to\", this_month )\n",
    "\n",
    "            this_aod_lw_b16_coa = other_aod_lw_b16_coa\n",
    "            this_ssa_lw_b16_coa = other_ssa_lw_b16_coa\n",
    "            this_asy_lw_b16_coa = other_asy_lw_b16_coa\n",
    "            this_aer_lw_b16_coa = other_aer_lw_b16_coa\n",
    "\n",
    "            this_aod_sw_b14_coa = other_aod_sw_b14_coa\n",
    "            this_ssa_sw_b14_coa = other_ssa_sw_b14_coa\n",
    "            this_asy_sw_b14_coa = other_asy_sw_b14_coa\n",
    "            this_aer_sw_b14_coa = other_aer_sw_b14_coa\n",
    "\n",
    "            this_aod_sw_b14_fin = other_aod_sw_b14_fin\n",
    "            this_ssa_sw_b14_fin = other_ssa_sw_b14_fin\n",
    "            this_asy_sw_b14_fin = other_asy_sw_b14_fin\n",
    "            this_aer_sw_b14_fin = other_aer_sw_b14_fin\n",
    "\n",
    "        watch_this = this_month\n",
    "\n",
    "    # with an extra copy one could save some more reading from file\n",
    "\n",
    "    if ( other_month != watch_other ) :\n",
    "\n",
    "        if ( VERBOSE > 1 ) :\n",
    "            print ( \"aero_provider: Reading other month\", other_month )\n",
    "\n",
    "        other_aod_lw_b16_coa = lw_b16_coa[\"aod\"][\"time\"][other_month-1].values.reshape((1,-1))\n",
    "        other_ssa_lw_b16_coa = lw_b16_coa[\"ssa\"][\"time\"][other_month-1].values.reshape((1,-1))\n",
    "        other_asy_lw_b16_coa = lw_b16_coa[\"asy\"][\"time\"][other_month-1].values.reshape((1,-1))\n",
    "        other_aer_lw_b16_coa = lw_b16_coa[\"z_aer_coarse_mo\"][\"time\"][other_month-1].values.reshape((1,-1))\n",
    "\n",
    "        other_aod_sw_b14_coa = sw_b14_coa[\"aod\"][\"time\"][other_month-1].values.reshape((1,-1))\n",
    "        other_ssa_sw_b14_coa = sw_b14_coa[\"ssa\"][\"time\"][other_month-1].values.reshape((1,-1))\n",
    "        other_asy_sw_b14_coa = sw_b14_coa[\"asy\"][\"time\"][other_month-1].values.reshape((1,-1))\n",
    "        other_aer_sw_b14_coa = sw_b14_coa[\"z_aer_coarse_mo\"][\"time\"][other_month-1].values.reshape((1,-1))\n",
    "\n",
    "        other_aod_sw_b14_fin = other_sw_b14_fin[\"aod\"][\"time\"][other_month-1].values.reshape((1,-1))\n",
    "        other_ssa_sw_b14_fin = other_sw_b14_fin[\"ssa\"][\"time\"][other_month-1].values.reshape((1,-1))\n",
    "        other_asy_sw_b14_fin = other_sw_b14_fin[\"asy\"][\"time\"][other_month-1].values.reshape((1,-1))\n",
    "        other_aer_sw_b14_fin = other_sw_b14_fin[\"z_aer_fine_mo\"][\"time\"][other_month-1].values.reshape((1,-1))\n",
    "\n",
    "        watch_other = other_month\n",
    "\n",
    "    if ( VERBOSE > 1 ) :\n",
    "        print (\"aero_provider: \", this_date.isoformat() , ' wght ' , \n",
    "               \"%8.6f\" % this_wght, '*' , \"%2i\" % this_month , '+' ,\n",
    "               \"%8.6f\" % other_wght, '*', \"%2i\" % other_month)\n",
    "\n",
    "    aod_lw_b16_coa_field = this_wght * this_aod_lw_b16_coa + other_wght * other_aod_lw_b16_coa\n",
    "    ssa_lw_b16_coa_field = this_wght * this_ssa_lw_b16_coa + other_wght * other_ssa_lw_b16_coa\n",
    "    asy_lw_b16_coa_field = this_wght * this_asy_lw_b16_coa + other_wght * other_asy_lw_b16_coa\n",
    "    aer_lw_b16_coa_field = this_wght * this_aer_lw_b16_coa + other_wght * other_aer_lw_b16_coa\n",
    "\n",
    "    aod_sw_b14_coa_field = this_wght * this_aod_sw_b14_coa + other_wght * other_aod_sw_b14_coa\n",
    "    ssa_sw_b14_coa_field = this_wght * this_ssa_sw_b14_coa + other_wght * other_ssa_sw_b14_coa\n",
    "    asy_sw_b14_coa_field = this_wght * this_asy_sw_b14_coa + other_wght * other_asy_sw_b14_coa\n",
    "    aer_sw_b14_coa_field = this_wght * this_aer_sw_b14_coa + other_wght * other_aer_sw_b14_coa\n",
    "\n",
    "    aod_sw_b14_fin_field = this_wght * this_aod_sw_b14_fin + other_wght * other_aod_sw_b14_fin\n",
    "    ssa_sw_b14_fin_field = this_wght * this_ssa_sw_b14_fin + other_wght * other_ssa_sw_b14_fin\n",
    "    asy_sw_b14_fin_field = this_wght * this_asy_sw_b14_fin + other_wght * other_asy_sw_b14_fin\n",
    "    aer_sw_b14_fin_field = this_wght * this_aer_sw_b14_fin + other_wght * other_aer_sw_b14_fin\n",
    "\n",
    "    this_date = this_date + coupling_interval\n",
    "\n",
    "print ( \"The End\" )"
   ]
  },
  {
   "cell_type": "raw",
   "id": "1af4110b-86ff-4df7-8e68-f69e28d6d009",
   "metadata": {},
   "source": []
  },
  {
   "cell_type": "code",
   "execution_count": null,
   "id": "89cec49c-c64b-4626-8e04-ad889315000b",
   "metadata": {},
   "outputs": [],
   "source": []
  }
 ],
 "metadata": {
  "kernelspec": {
   "display_name": "Python 3 (based on the module python3/2022.01)",
   "language": "python",
   "name": "python3_2022_01"
  },
  "language_info": {
   "codemirror_mode": {
    "name": "ipython",
    "version": 3
   },
   "file_extension": ".py",
   "mimetype": "text/x-python",
   "name": "python",
   "nbconvert_exporter": "python",
   "pygments_lexer": "ipython3",
   "version": "3.9.9"
  }
 },
 "nbformat": 4,
 "nbformat_minor": 5
}
